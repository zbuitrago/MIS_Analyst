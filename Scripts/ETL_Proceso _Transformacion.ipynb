{
 "cells": [
  {
   "cell_type": "code",
   "execution_count": 1,
   "metadata": {},
   "outputs": [],
   "source": [
    "import pandas as pd\n",
    "import seaborn as sns\n",
    "import matplotlib.pyplot as plt\n",
    "import glob\n",
    "import pandas_profiling\n"
   ]
  },
  {
   "cell_type": "markdown",
   "metadata": {},
   "source": [
    "\n"
   ]
  },
  {
   "cell_type": "markdown",
   "metadata": {},
   "source": [
    "## Modelo Entidad Relacion\n",
    "\n"
   ]
  },
  {
   "cell_type": "markdown",
   "metadata": {},
   "source": [
    "<img src=\"../../Imagenes/Diagrama.PNG\"/>\n",
    "\n"
   ]
  },
  {
   "cell_type": "markdown",
   "metadata": {},
   "source": [
    "Con este grafico se facilita la forma de realizar diferentes interpretacion y relaciones con a informacion que fue entregrada por el departamento\n",
    "como podemos interconectar la informacion por medio de relaciones uno a muchos o muchos a uno entre una tabla y otra"
   ]
  },
  {
   "cell_type": "markdown",
   "metadata": {},
   "source": [
    "## Se emplea Mysql para realizar la carga de las diferentes "
   ]
  },
  {
   "cell_type": "markdown",
   "metadata": {},
   "source": [
    "<img src=\"../../Imagenes/Creacion_tablas.PNG\"/>"
   ]
  },
  {
   "cell_type": "markdown",
   "metadata": {},
   "source": [
    "## Analisis de la informacion"
   ]
  },
  {
   "cell_type": "markdown",
   "metadata": {},
   "source": [
    "<img src=\"../../Imagenes/analisis.PNG\"/>"
   ]
  },
  {
   "cell_type": "markdown",
   "metadata": {},
   "source": [
    "1. Para la tabla de areas comunes es necesario realizar una agrupacion en la columna de edificio y piso, para obtener el total de area comun por cada piso\n",
    "2. Del primer paso obtenemos una tabla la cual podemos cruzar con la tabla de arriendo y realizar diferentes calculos entre las columnas de estas operaciones obtenemos: el valor por metro cuadrado, cuanto es el costo por puesto de trabajo, lo que cuesta la totalidad de area comun por piso y edificio. se debe tener cuidado con cruzar la informacion dependiendo el año. de estos cruces obtendremos la informacion relevante en cuanto los precios para cada piso y edificio por m2 y puesto de trabajo correspondiente a cada año \n",
    "3. De la tabla de seats_input por la columna de period, building, floor podemos realizar un cruce de informacion con la tabla que se obtuvo del punto 2. para tener el costo por cada piso segun e numero de sillas con las que se cuenta\n",
    "4. se toma la tabla de areas comunes por mes para realizar el paso 3 pero teniendo en cuenta que esta informacion se debe agrupar para obtener la totalidad del area comun por piso\n",
    "5. para este paso tendremos la informacion solicitada en dos tablas diferentes para esto se realiza un proceso de union para tener toda la informacion en una unica tabla\n",
    "6. se realiza el proceso de exportacion de informacion para ser cargada en powerbi"
   ]
  }
 ],
 "metadata": {
  "kernelspec": {
   "display_name": "Python 3",
   "language": "python",
   "name": "python3"
  },
  "language_info": {
   "codemirror_mode": {
    "name": "ipython",
    "version": 3
   },
   "file_extension": ".py",
   "mimetype": "text/x-python",
   "name": "python",
   "nbconvert_exporter": "python",
   "pygments_lexer": "ipython3",
   "version": "3.7.1"
  }
 },
 "nbformat": 4,
 "nbformat_minor": 2
}
